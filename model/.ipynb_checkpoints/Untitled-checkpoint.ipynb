{
 "cells": [
  {
   "cell_type": "code",
   "execution_count": 1,
   "metadata": {},
   "outputs": [],
   "source": [
    "from jamo import h2j, j2hcj\n",
    "import pandas as pd\n",
    "import tensorflow as tf\n",
    "from sklearn.model_selection import train_test_split\n",
    "import numpy as np\n",
    "import math"
   ]
  },
  {
   "cell_type": "code",
   "execution_count": 2,
   "metadata": {},
   "outputs": [
    {
     "name": "stdout",
     "output_type": "stream",
     "text": [
      "WARNING:tensorflow:From <ipython-input-2-4a3f57d5652e>:2: is_gpu_available (from tensorflow.python.framework.test_util) is deprecated and will be removed in a future version.\n",
      "Instructions for updating:\n",
      "Use `tf.config.list_physical_devices('GPU')` instead.\n"
     ]
    },
    {
     "data": {
      "text/plain": [
       "True"
      ]
     },
     "execution_count": 2,
     "metadata": {},
     "output_type": "execute_result"
    }
   ],
   "source": [
    "import tensorflow as tf\n",
    "tf.test.is_gpu_available()"
   ]
  },
  {
   "cell_type": "code",
   "execution_count": 3,
   "metadata": {},
   "outputs": [],
   "source": [
    "vocab = ['ㄷ', 'ㅏ', 'ㄴ', 'ㄱ', 'ㅜ', 'ㅎ', 'ㄹ', 'ㅇ', 'ㅂ', 'ㅓ', 'ㅈ', 'ㅣ', ' ',\n",
    " 'ㅡ', 'ㅢ', 'ㅁ', 'ㅗ', 'ㅅ', 'ㅔ', 'ㅕ', 'ㅑ', ';', 'B', 'J', '.', 'P', 'G',\n",
    " 'ㄸ', 'ㅟ', 'ㅃ', 'ㅌ', '[', '1', ':', '8', '2', '3', '0', ']', 'V', 'L',\n",
    " 'I', 'E', 'ㅋ', 'ㅖ', '(', 'ㅠ', ')', '5', 'ㅝ', 'ㅐ', 'ㅆ', \"'\", 'ㅀ', 'ㅊ',\n",
    " 't', 'x', 'ㅙ', 'ㅚ', 'ㅉ', 'ㅍ', 'ㅄ', '?', 'g', 'i', 'f', 'ㅛ', '6', '7', '☀',\n",
    " 'ㄲ', 'v', 's', 'ㅘ', '!', 'ㄶ', 'p', 'c', 'ㄼ', '\\u3000', 'k', '4', '9', ',',\n",
    " 'ㅞ', 'ㅒ', '“', '”', 'N', '‘', '’', 'T', 'O', 'a', 'r', 'm', 'S', '+', 'o', 'd',\n",
    " 'l', 'u', '·', '~', '/', 'ㄻ', '^', 'ㄺ', 'e', 'n', 'A', '-', 'D', '&', 'C',\n",
    " 'F', 'j', 'M', 'K', '\"', '_', 'Z', 'X', 'U', '…', 'ㄾ', 'w', '=', 'z',\n",
    " '>', '<', 'b', 'H', '@', '*', 'W', 'y', 'h', 'R', '%', 'ㄽ', '．',\n",
    " 'ｊ', 'ｐ', 'ｇ', 'ㄵ', '{', '}', 'q', 'Y', 'Q',\n",
    " '$', 'ㄿ', '？', 'ㆍ', 'ㄳ', '⋅', '—']\n",
    "\n",
    "vocab_dict = {c: i for i, c in enumerate(vocab, 1)}"
   ]
  },
  {
   "cell_type": "code",
   "execution_count": 4,
   "metadata": {},
   "outputs": [],
   "source": [
    "UNK = 0\n",
    "PAD = len(vocab_dict) + 1\n",
    "\n",
    "def preprocessing(char_list):\n",
    "    ret = [vocab_dict[char] if char in vocab_dict else UNK for char in char_list]\n",
    "    if len(ret) <= 100:\n",
    "        ret += [PAD] * (100 - len(ret))\n",
    "    else:\n",
    "        ret = ret[:100]\n",
    "    return ret"
   ]
  },
  {
   "cell_type": "code",
   "execution_count": 5,
   "metadata": {},
   "outputs": [],
   "source": [
    "df_normals = pd.read_csv('models/normals.txt', sep='\\t', names=['text', 'label'])\n",
    "df_swears = pd.read_csv('models/swears.txt', sep='\\t', names=['text', 'label'])"
   ]
  },
  {
   "cell_type": "code",
   "execution_count": 6,
   "metadata": {},
   "outputs": [],
   "source": [
    "df_normals['text'] = df_normals['text'].apply(lambda x: j2hcj(h2j(x)))\n",
    "df_swears['text'] = df_swears['text'].apply(lambda x: j2hcj(h2j(x)))"
   ]
  },
  {
   "cell_type": "code",
   "execution_count": 7,
   "metadata": {},
   "outputs": [],
   "source": [
    "df_normals['text'] = df_normals['text'].apply(lambda x: preprocessing(list(x)))\n",
    "df_swears['text'] = df_swears['text'].apply(lambda x: preprocessing(list(x)))"
   ]
  },
  {
   "cell_type": "code",
   "execution_count": 8,
   "metadata": {},
   "outputs": [],
   "source": [
    "df_normals_sampled = df_normals.sample(n=len(df_swears), random_state=2020)"
   ]
  },
  {
   "cell_type": "code",
   "execution_count": 9,
   "metadata": {},
   "outputs": [
    {
     "data": {
      "text/html": [
       "<div>\n",
       "<style scoped>\n",
       "    .dataframe tbody tr th:only-of-type {\n",
       "        vertical-align: middle;\n",
       "    }\n",
       "\n",
       "    .dataframe tbody tr th {\n",
       "        vertical-align: top;\n",
       "    }\n",
       "\n",
       "    .dataframe thead th {\n",
       "        text-align: right;\n",
       "    }\n",
       "</style>\n",
       "<table border=\"1\" class=\"dataframe\">\n",
       "  <thead>\n",
       "    <tr style=\"text-align: right;\">\n",
       "      <th></th>\n",
       "      <th>text</th>\n",
       "      <th>label</th>\n",
       "    </tr>\n",
       "  </thead>\n",
       "  <tbody>\n",
       "    <tr>\n",
       "      <th>0</th>\n",
       "      <td>[6, 51, 8, 11, 10, 8, 18, 2, 7, 17, 13, 18, 2,...</td>\n",
       "      <td>0</td>\n",
       "    </tr>\n",
       "    <tr>\n",
       "      <th>1</th>\n",
       "      <td>[18, 67, 3, 17, 18, 13, 55, 29, 18, 17, 13, 16...</td>\n",
       "      <td>0</td>\n",
       "    </tr>\n",
       "    <tr>\n",
       "      <th>2</th>\n",
       "      <td>[1, 51, 4, 12, 8, 10, 9, 1, 17, 13, 18, 12, 3,...</td>\n",
       "      <td>0</td>\n",
       "    </tr>\n",
       "    <tr>\n",
       "      <th>3</th>\n",
       "      <td>[6, 19, 8, 14, 8, 14, 8, 159, 159, 159, 159, 1...</td>\n",
       "      <td>0</td>\n",
       "    </tr>\n",
       "    <tr>\n",
       "      <th>4</th>\n",
       "      <td>[4, 51, 7, 13, 16, 2, 4, 51, 7, 8, 12, 8, 10, ...</td>\n",
       "      <td>0</td>\n",
       "    </tr>\n",
       "    <tr>\n",
       "      <th>...</th>\n",
       "      <td>...</td>\n",
       "      <td>...</td>\n",
       "    </tr>\n",
       "    <tr>\n",
       "      <th>4977</th>\n",
       "      <td>[8, 2, 18, 12, 9, 2, 7, 13, 4, 10, 3, 11, 17, ...</td>\n",
       "      <td>1</td>\n",
       "    </tr>\n",
       "    <tr>\n",
       "      <th>4978</th>\n",
       "      <td>[8, 74, 13, 52, 12, 9, 2, 7, 13, 1, 14, 1, 12,...</td>\n",
       "      <td>1</td>\n",
       "    </tr>\n",
       "    <tr>\n",
       "      <th>4979</th>\n",
       "      <td>[4, 14, 13, 18, 10, 8, 1, 2, 3, 13, 11, 17, 11...</td>\n",
       "      <td>1</td>\n",
       "    </tr>\n",
       "    <tr>\n",
       "      <th>4980</th>\n",
       "      <td>[4, 2, 9, 11, 2, 4, 12, 13, 8, 12, 71, 4, 51, ...</td>\n",
       "      <td>1</td>\n",
       "    </tr>\n",
       "    <tr>\n",
       "      <th>4981</th>\n",
       "      <td>[61, 12, 8, 47, 8, 18, 12, 3, 159, 159, 159, 1...</td>\n",
       "      <td>1</td>\n",
       "    </tr>\n",
       "  </tbody>\n",
       "</table>\n",
       "<p>4982 rows × 2 columns</p>\n",
       "</div>"
      ],
      "text/plain": [
       "                                                   text  label\n",
       "0     [6, 51, 8, 11, 10, 8, 18, 2, 7, 17, 13, 18, 2,...      0\n",
       "1     [18, 67, 3, 17, 18, 13, 55, 29, 18, 17, 13, 16...      0\n",
       "2     [1, 51, 4, 12, 8, 10, 9, 1, 17, 13, 18, 12, 3,...      0\n",
       "3     [6, 19, 8, 14, 8, 14, 8, 159, 159, 159, 159, 1...      0\n",
       "4     [4, 51, 7, 13, 16, 2, 4, 51, 7, 8, 12, 8, 10, ...      0\n",
       "...                                                 ...    ...\n",
       "4977  [8, 2, 18, 12, 9, 2, 7, 13, 4, 10, 3, 11, 17, ...      1\n",
       "4978  [8, 74, 13, 52, 12, 9, 2, 7, 13, 1, 14, 1, 12,...      1\n",
       "4979  [4, 14, 13, 18, 10, 8, 1, 2, 3, 13, 11, 17, 11...      1\n",
       "4980  [4, 2, 9, 11, 2, 4, 12, 13, 8, 12, 71, 4, 51, ...      1\n",
       "4981  [61, 12, 8, 47, 8, 18, 12, 3, 159, 159, 159, 1...      1\n",
       "\n",
       "[4982 rows x 2 columns]"
      ]
     },
     "execution_count": 9,
     "metadata": {},
     "output_type": "execute_result"
    }
   ],
   "source": [
    "df_total = pd.concat([df_normals_sampled, df_swears], ignore_index=True)\n",
    "df_total"
   ]
  },
  {
   "cell_type": "code",
   "execution_count": 10,
   "metadata": {},
   "outputs": [],
   "source": [
    "df_train, df_test = train_test_split(df_total, test_size=0.2, stratify=df_total['label'])"
   ]
  },
  {
   "cell_type": "code",
   "execution_count": 11,
   "metadata": {},
   "outputs": [
    {
     "data": {
      "text/html": [
       "<div>\n",
       "<style scoped>\n",
       "    .dataframe tbody tr th:only-of-type {\n",
       "        vertical-align: middle;\n",
       "    }\n",
       "\n",
       "    .dataframe tbody tr th {\n",
       "        vertical-align: top;\n",
       "    }\n",
       "\n",
       "    .dataframe thead th {\n",
       "        text-align: right;\n",
       "    }\n",
       "</style>\n",
       "<table border=\"1\" class=\"dataframe\">\n",
       "  <thead>\n",
       "    <tr style=\"text-align: right;\">\n",
       "      <th></th>\n",
       "      <th>text</th>\n",
       "      <th>label</th>\n",
       "    </tr>\n",
       "  </thead>\n",
       "  <tbody>\n",
       "    <tr>\n",
       "      <th>1607</th>\n",
       "      <td>[8, 21, 8, 12, 13, 11, 2, 18, 12, 4, 1, 14, 7,...</td>\n",
       "      <td>0</td>\n",
       "    </tr>\n",
       "    <tr>\n",
       "      <th>1462</th>\n",
       "      <td>[4, 2, 9, 11, 2, 4, 12, 13, 8, 2, 3, 55, 12, 8...</td>\n",
       "      <td>0</td>\n",
       "    </tr>\n",
       "    <tr>\n",
       "      <th>113</th>\n",
       "      <td>[11, 19, 9, 2, 7, 13, 44, 51, 7, 12, 13, 28, 2...</td>\n",
       "      <td>0</td>\n",
       "    </tr>\n",
       "    <tr>\n",
       "      <th>2111</th>\n",
       "      <td>[55, 5, 7, 1, 17, 8, 8, 19, 8, 10, 8, 5, 7, 61...</td>\n",
       "      <td>0</td>\n",
       "    </tr>\n",
       "    <tr>\n",
       "      <th>2763</th>\n",
       "      <td>[11, 12, 18, 14, 31, 2, 8, 19, 13, 28, 17, 8, ...</td>\n",
       "      <td>1</td>\n",
       "    </tr>\n",
       "    <tr>\n",
       "      <th>...</th>\n",
       "      <td>...</td>\n",
       "      <td>...</td>\n",
       "    </tr>\n",
       "    <tr>\n",
       "      <th>1342</th>\n",
       "      <td>[8, 12, 61, 8, 12, 13, 16, 2, 7, 7, 12, 3, 14,...</td>\n",
       "      <td>0</td>\n",
       "    </tr>\n",
       "    <tr>\n",
       "      <th>277</th>\n",
       "      <td>[71, 12, 18, 5, 3, 8, 12, 13, 1, 47, 8, 17, 13...</td>\n",
       "      <td>0</td>\n",
       "    </tr>\n",
       "    <tr>\n",
       "      <th>4087</th>\n",
       "      <td>[8, 74, 13, 18, 12, 9, 2, 13, 4, 21, 7, 2, 1, ...</td>\n",
       "      <td>1</td>\n",
       "    </tr>\n",
       "    <tr>\n",
       "      <th>956</th>\n",
       "      <td>[73, 138, 94, 100, 99, 127, 13, 18, 10, 7, 16,...</td>\n",
       "      <td>0</td>\n",
       "    </tr>\n",
       "    <tr>\n",
       "      <th>3937</th>\n",
       "      <td>[33, 69, 1, 51, 61, 10, 31, 12, 16, 8, 14, 3, ...</td>\n",
       "      <td>1</td>\n",
       "    </tr>\n",
       "  </tbody>\n",
       "</table>\n",
       "<p>3985 rows × 2 columns</p>\n",
       "</div>"
      ],
      "text/plain": [
       "                                                   text  label\n",
       "1607  [8, 21, 8, 12, 13, 11, 2, 18, 12, 4, 1, 14, 7,...      0\n",
       "1462  [4, 2, 9, 11, 2, 4, 12, 13, 8, 2, 3, 55, 12, 8...      0\n",
       "113   [11, 19, 9, 2, 7, 13, 44, 51, 7, 12, 13, 28, 2...      0\n",
       "2111  [55, 5, 7, 1, 17, 8, 8, 19, 8, 10, 8, 5, 7, 61...      0\n",
       "2763  [11, 12, 18, 14, 31, 2, 8, 19, 13, 28, 17, 8, ...      1\n",
       "...                                                 ...    ...\n",
       "1342  [8, 12, 61, 8, 12, 13, 16, 2, 7, 7, 12, 3, 14,...      0\n",
       "277   [71, 12, 18, 5, 3, 8, 12, 13, 1, 47, 8, 17, 13...      0\n",
       "4087  [8, 74, 13, 18, 12, 9, 2, 13, 4, 21, 7, 2, 1, ...      1\n",
       "956   [73, 138, 94, 100, 99, 127, 13, 18, 10, 7, 16,...      0\n",
       "3937  [33, 69, 1, 51, 61, 10, 31, 12, 16, 8, 14, 3, ...      1\n",
       "\n",
       "[3985 rows x 2 columns]"
      ]
     },
     "execution_count": 11,
     "metadata": {},
     "output_type": "execute_result"
    }
   ],
   "source": [
    "df_train"
   ]
  },
  {
   "cell_type": "code",
   "execution_count": 12,
   "metadata": {},
   "outputs": [],
   "source": [
    "xtrain, ytrain = np.vstack(df_train['text']), tf.one_hot(np.array(df_train['label']), depth=2)\n",
    "xtest, ytest = np.vstack(df_test['text']), tf.one_hot(np.array(df_test['label']), depth=2)"
   ]
  },
  {
   "cell_type": "code",
   "execution_count": 13,
   "metadata": {},
   "outputs": [],
   "source": [
    "train_ds = tf.data.Dataset.from_tensor_slices((xtrain,ytrain)).batch(32)\n",
    "test_ds =tf.data.Dataset.from_tensor_slices((xtest,ytest)).batch(32)"
   ]
  },
  {
   "cell_type": "code",
   "execution_count": 20,
   "metadata": {},
   "outputs": [],
   "source": [
    "# class Model(tf.keras.Model):\n",
    "#     def __init__(self):\n",
    "#         super(Model, self).__init__()\n",
    "#         self.emb = tf.keras.layers.Embedding(input_dim=160, output_dim=64, input_length=100)\n",
    "#         self.conv1 = tf.keras.layers.Conv1D(64, 5, activation='relu', input_shape=(100,64))\n",
    "#         self.pool1 = tf.keras.layers.MaxPooling1D(pool_size=2, strides=2)\n",
    "#         self.conv2 = tf.keras.layers.Conv1D(32, 5, activation='relu', input_shape=(96,32))\n",
    "#         self.pool2 = tf.keras.layers.MaxPooling1D(pool_size=2, strides=2)\n",
    "#         self.conv3 = tf.keras.layers.Conv1D(16, 5, activation='relu', input_shape=(92,16))\n",
    "#         self.pool3 = tf.keras.layers.MaxPooling1D(pool_size=2, strides=2)\n",
    "#         self.flat = tf.keras.layers.Flatten(input_shape=(84, 8))\n",
    "#         self.dense = tf.keras.layers.Dense(128, activation='relu')\n",
    "#         self.classifier = tf.keras.layers.Dense(2, activation='softmax')\n",
    "    \n",
    "#     def call(self, x):\n",
    "#         x = self.emb(x)\n",
    "#         x = self.conv1(x)\n",
    "#         x = self.pool1(x)\n",
    "#         x = self.conv2(x)\n",
    "#         x = self.pool2(x)\n",
    "#         x = self.conv3(x)\n",
    "#         x = self.pool3(x)\n",
    "#         x = self.flat(x)\n",
    "#         x = self.dense(x)\n",
    "#         return self.classifier(x)\n",
    "    \n",
    "# model = Model()"
   ]
  },
  {
   "cell_type": "code",
   "execution_count": 21,
   "metadata": {},
   "outputs": [],
   "source": [
    "# class ConvModel(tf.keras.Model):\n",
    "#     def __init__(self, input_dim):\n",
    "#         super(ConvModel, self).__init__()\n",
    "#         self.dim = input_dim\n",
    "#         self.conv_q = tf.keras.layers.Conv1D(input_dim[1], 5, activation='relu', input_shape=input_dim)\n",
    "#         self.conv_k = tf.keras.layers.Conv1D(input_dim[1], 5, activation='relu', input_shape=input_dim)\n",
    "#         self.conv_v = tf.keras.layers.Conv1D(input_dim[1], 5, activation='relu', input_shape=input_dim)\n",
    "#         self.pool = tf.keras.layers.MaxPooling1D(pool_size=2, strides=2)\n",
    "        \n",
    "#     def call(self, x):\n",
    "#         x_q = self.conv_q(x)\n",
    "#         x_k = self.conv_k(x)\n",
    "#         x_v = self.conv_v(x)\n",
    "#         scaled_dot = tf.math.multiply(x_q, x_k) / math.sqrt(self.dim[1])\n",
    "#         a = tf.nn.softmax(scaled_dot, axis=1)\n",
    "#         return self.pool(a * x_v)"
   ]
  },
  {
   "cell_type": "code",
   "execution_count": 28,
   "metadata": {},
   "outputs": [],
   "source": [
    "class Model(tf.keras.Model):\n",
    "    def __init__(self):\n",
    "        super(Model, self).__init__()\n",
    "        self.emb = tf.keras.layers.Embedding(input_dim=160, output_dim=128, input_length=100)\n",
    "        \n",
    "        self.conv1_q = tf.keras.layers.Conv1D(128, 5, activation='relu', input_shape=(100, 128))\n",
    "        self.conv1_k = tf.keras.layers.Conv1D(128, 5, activation='relu', input_shape=(100, 128))\n",
    "        self.conv1_v = tf.keras.layers.Conv1D(128, 5, activation='relu', input_shape=(100, 128))\n",
    "        \n",
    "        self.conv2_q = tf.keras.layers.Conv1D(64, 5, activation='relu', input_shape=(96, 64))\n",
    "        self.conv2_k = tf.keras.layers.Conv1D(64, 5, activation='relu', input_shape=(96, 64))\n",
    "        self.conv2_v = tf.keras.layers.Conv1D(64, 5, activation='relu', input_shape=(96, 64))\n",
    "\n",
    "        self.pool = tf.keras.layers.MaxPooling1D(pool_size=2, strides=2, data_format=\"channels_first\")\n",
    "        \n",
    "        self.flat = tf.keras.layers.Flatten(input_shape=(92, 32))\n",
    "        self.dense1 = tf.keras.layers.Dense(512, activation='relu')\n",
    "        self.dense2 = tf.keras.layers.Dense(128, activation='relu')\n",
    "        self.classifier = tf.keras.layers.Dense(2, activation='softmax')\n",
    "        \n",
    "    def call(self, x):\n",
    "        x = self.emb(x)\n",
    "        \n",
    "        x_q = self.conv1_q(x)\n",
    "        x_k = self.conv1_k(x)\n",
    "        x_v = self.conv1_v(x)\n",
    "        scaled_dot = tf.math.multiply(x_q, x_k) / math.sqrt(128)\n",
    "        a = tf.nn.softmax(scaled_dot, axis=1)\n",
    "        x = self.pool(a * x_v)\n",
    "        \n",
    "        x_q = self.conv2_q(x)\n",
    "        x_k = self.conv2_k(x)\n",
    "        x_v = self.conv2_v(x)\n",
    "        scaled_dot = tf.math.multiply(x_q, x_k) / math.sqrt(64)\n",
    "        a = tf.nn.softmax(scaled_dot, axis=1)\n",
    "        x = self.pool(a * x_v)\n",
    "\n",
    "        x = self.flat(x)\n",
    "        x = self.dense1(x)\n",
    "        x = self.dense2(x)\n",
    "        return self.classifier(x)\n",
    "    \n",
    "model = Model()"
   ]
  },
  {
   "cell_type": "code",
   "execution_count": 29,
   "metadata": {},
   "outputs": [],
   "source": [
    "loss_object = tf.keras.losses.BinaryCrossentropy(from_logits=True)\n",
    "optimizer = tf.keras.optimizers.Adam()"
   ]
  },
  {
   "cell_type": "code",
   "execution_count": 30,
   "metadata": {},
   "outputs": [],
   "source": [
    "train_loss = tf.keras.metrics.Mean(name='train_loss')\n",
    "train_accuracy = tf.keras.metrics.BinaryAccuracy(name='train_accuracy')\n",
    "\n",
    "test_loss = tf.keras.metrics.Mean(name='test_loss')\n",
    "test_accuracy = tf.keras.metrics.BinaryAccuracy(name='test_accuracy')"
   ]
  },
  {
   "cell_type": "code",
   "execution_count": 31,
   "metadata": {},
   "outputs": [],
   "source": [
    "@tf.function\n",
    "def train_step(documents, labels):\n",
    "    with tf.GradientTape() as tape:\n",
    "        predictions = model(documents)\n",
    "        loss = loss_object(labels, predictions)\n",
    "    gradients = tape.gradient(loss, model.trainable_variables)\n",
    "    optimizer.apply_gradients(zip(gradients, model.trainable_variables))\n",
    "    \n",
    "    train_loss(loss)\n",
    "    train_accuracy(labels, predictions)"
   ]
  },
  {
   "cell_type": "code",
   "execution_count": 32,
   "metadata": {},
   "outputs": [],
   "source": [
    "@tf.function\n",
    "def test_step(documents, labels):\n",
    "    predictions = model(documents)\n",
    "    loss = loss_object(labels, predictions)\n",
    "    \n",
    "    test_loss(loss)\n",
    "    test_accuracy(labels, predictions)"
   ]
  },
  {
   "cell_type": "code",
   "execution_count": 33,
   "metadata": {},
   "outputs": [
    {
     "name": "stdout",
     "output_type": "stream",
     "text": [
      "[EPOCH 1/100], LOSS: 0.7241511940956116, ACCURACY: 49.20953369140625, TEST_LOSS: 0.7240978479385376, TEST_ACCURACY: 49.94984817504883\n",
      "[EPOCH 11/100], LOSS: 0.7192822694778442, ACCURACY: 51.13265609741211, TEST_LOSS: 0.7154316902160645, TEST_ACCURACY: 52.79475021362305\n",
      "[EPOCH 21/100], LOSS: 0.6703925132751465, ACCURACY: 63.528709411621094, TEST_LOSS: 0.672185480594635, TEST_ACCURACY: 63.8725700378418\n",
      "[EPOCH 31/100], LOSS: 0.6423004865646362, ACCURACY: 70.10725402832031, TEST_LOSS: 0.651398777961731, TEST_ACCURACY: 68.84201049804688\n",
      "[EPOCH 41/100], LOSS: 0.6247989535331726, ACCURACY: 74.10594940185547, TEST_LOSS: 0.6396171450614929, TEST_ACCURACY: 71.61239624023438\n",
      "[EPOCH 51/100], LOSS: 0.6130536794662476, ACCURACY: 76.75105285644531, TEST_LOSS: 0.6323032975196838, TEST_ACCURACY: 73.30619049072266\n",
      "[EPOCH 61/100], LOSS: 0.6040775775909424, ACCURACY: 78.74899291992188, TEST_LOSS: 0.6264773011207581, TEST_ACCURACY: 74.75376892089844\n",
      "[EPOCH 71/100], LOSS: 0.5974025726318359, ACCURACY: 80.23326873779297, TEST_LOSS: 0.6233058571815491, TEST_ACCURACY: 75.60286712646484\n",
      "[EPOCH 81/100], LOSS: 0.5918875932693481, ACCURACY: 81.4480209350586, TEST_LOSS: 0.6203464269638062, TEST_ACCURACY: 76.33146667480469\n",
      "[EPOCH 91/100], LOSS: 0.5872737765312195, ACCURACY: 82.45783996582031, TEST_LOSS: 0.6179051399230957, TEST_ACCURACY: 76.90875244140625\n"
     ]
    }
   ],
   "source": [
    "EPOCHS = 100\n",
    "\n",
    "for epoch in range(EPOCHS):\n",
    "    for documents, labels in train_ds:\n",
    "        train_step(documents, labels)\n",
    "    for documents, labels in test_ds:\n",
    "        test_step(documents, labels)\n",
    "    \n",
    "    if epoch % 10 == 0:\n",
    "        template = \"[EPOCH {}/{}], LOSS: {}, ACCURACY: {}, TEST_LOSS: {}, TEST_ACCURACY: {}\"\n",
    "        print(template.format(\n",
    "            epoch+1,\n",
    "            EPOCHS,\n",
    "            train_loss.result(),\n",
    "            train_accuracy.result()*100,\n",
    "            test_loss.result(),\n",
    "            test_accuracy.result()*100\n",
    "        ))"
   ]
  },
  {
   "cell_type": "code",
   "execution_count": null,
   "metadata": {},
   "outputs": [],
   "source": [
    "def predict(text=None):\n",
    "    if text is None:\n",
    "        text = input()\n",
    "    x = j2hcj(h2j(text))\n",
    "    x = preprocessing(list(x))\n",
    "    prediction = model.predict(np.array([x]))\n",
    "    if prediction[0][0] > prediction[0][1]:\n",
    "        print('정상입니다.')\n",
    "    else:\n",
    "        print('욕입니다.')\n",
    "    print(prediction)"
   ]
  },
  {
   "cell_type": "code",
   "execution_count": null,
   "metadata": {},
   "outputs": [],
   "source": [
    "predict()"
   ]
  },
  {
   "cell_type": "code",
   "execution_count": null,
   "metadata": {},
   "outputs": [],
   "source": [
    "model.save('models/model')"
   ]
  },
  {
   "cell_type": "code",
   "execution_count": null,
   "metadata": {},
   "outputs": [],
   "source": [
    "converter = tf.lite.TFLiteConverter.from_saved_model('models/model')\n",
    "tflite_model = converter.convert()\n",
    "\n",
    "with open('models/model.tflite', 'wb') as f:\n",
    "    f.write(tflite_model)"
   ]
  },
  {
   "cell_type": "code",
   "execution_count": null,
   "metadata": {},
   "outputs": [],
   "source": []
  }
 ],
 "metadata": {
  "kernelspec": {
   "display_name": "Python 3",
   "language": "python",
   "name": "python3"
  },
  "language_info": {
   "codemirror_mode": {
    "name": "ipython",
    "version": 3
   },
   "file_extension": ".py",
   "mimetype": "text/x-python",
   "name": "python",
   "nbconvert_exporter": "python",
   "pygments_lexer": "ipython3",
   "version": "3.6.9"
  }
 },
 "nbformat": 4,
 "nbformat_minor": 4
}
