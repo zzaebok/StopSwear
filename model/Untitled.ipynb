{
 "cells": [
  {
   "cell_type": "code",
   "execution_count": 1,
   "metadata": {},
   "outputs": [],
   "source": [
    "from jamo import h2j, j2hcj\n",
    "import pandas as pd\n",
    "import tensorflow as tf\n",
    "from sklearn.model_selection import train_test_split\n",
    "import numpy as np"
   ]
  },
  {
   "cell_type": "code",
   "execution_count": 2,
   "metadata": {},
   "outputs": [
    {
     "data": {
      "text/plain": [
       "[1, 2, 3, 4, 5, 6]"
      ]
     },
     "execution_count": 2,
     "metadata": {},
     "output_type": "execute_result"
    }
   ],
   "source": [
    "from itertools import chain\n",
    "\n",
    "[_ for _ in chain.from_iterable(([1,2,3], [4,5,6]))]"
   ]
  },
  {
   "cell_type": "code",
   "execution_count": 3,
   "metadata": {},
   "outputs": [],
   "source": [
    "vocab = ['ㄷ', 'ㅏ', 'ㄴ', 'ㄱ', 'ㅜ', 'ㅎ', 'ㄹ', 'ㅇ', 'ㅂ', 'ㅓ', 'ㅈ', 'ㅣ', ' ',\n",
    " 'ㅡ', 'ㅢ', 'ㅁ', 'ㅗ', 'ㅅ', 'ㅔ', 'ㅕ', 'ㅑ', ';', 'B', 'J', '.', 'P', 'G',\n",
    " 'ㄸ', 'ㅟ', 'ㅃ', 'ㅌ', '[', '1', ':', '8', '2', '3', '0', ']', 'V', 'L',\n",
    " 'I', 'E', 'ㅋ', 'ㅖ', '(', 'ㅠ', ')', '5', 'ㅝ', 'ㅐ', 'ㅆ', \"'\", 'ㅀ', 'ㅊ',\n",
    " 't', 'x', 'ㅙ', 'ㅚ', 'ㅉ', 'ㅍ', 'ㅄ', '?', 'g', 'i', 'f', 'ㅛ', '6', '7', '☀',\n",
    " 'ㄲ', 'v', 's', 'ㅘ', '!', 'ㄶ', 'p', 'c', 'ㄼ', '\\u3000', 'k', '4', '9', ',',\n",
    " 'ㅞ', 'ㅒ', '“', '”', 'N', '‘', '’', 'T', 'O', 'a', 'r', 'm', 'S', '+', 'o', 'd',\n",
    " 'l', 'u', '·', '~', '/', 'ㄻ', '^', 'ㄺ', 'e', 'n', 'A', '-', 'D', '&', 'C',\n",
    " 'F', 'j', 'M', 'K', '\"', '_', 'Z', 'X', 'U', '…', 'ㄾ', 'w', '=', 'z',\n",
    " '>', '<', 'b', 'H', '@', '*', 'W', 'y', 'h', 'R', '%', 'ㄽ', '．',\n",
    " 'ｊ', 'ｐ', 'ｇ', 'ㄵ', '{', '}', 'q', 'Y', 'Q',\n",
    " '$', 'ㄿ', '？', 'ㆍ', 'ㄳ', '⋅', '—']\n",
    "\n",
    "vocab_dict = {c: i for i, c in enumerate(vocab, 1)}"
   ]
  },
  {
   "cell_type": "code",
   "execution_count": 4,
   "metadata": {},
   "outputs": [],
   "source": [
    "UNK = 0\n",
    "PAD = len(vocab_dict) + 1\n",
    "\n",
    "def preprocessing(char_list):\n",
    "    ret = [vocab_dict[char] if char in vocab_dict else UNK for char in char_list]\n",
    "    if len(ret) <= 100:\n",
    "        ret += [PAD] * (100 - len(ret))\n",
    "    else:\n",
    "        ret = ret[:100]\n",
    "    return ret"
   ]
  },
  {
   "cell_type": "code",
   "execution_count": 5,
   "metadata": {},
   "outputs": [],
   "source": [
    "df_normals = pd.read_csv('models/normals.txt', sep='\\t', names=['text', 'label'])\n",
    "df_swears = pd.read_csv('models/swears.txt', sep='\\t', names=['text', 'label'])"
   ]
  },
  {
   "cell_type": "code",
   "execution_count": 6,
   "metadata": {},
   "outputs": [],
   "source": [
    "df_normals['text'] = df_normals['text'].apply(lambda x: j2hcj(h2j(x)))\n",
    "df_swears['text'] = df_swears['text'].apply(lambda x: j2hcj(h2j(x)))"
   ]
  },
  {
   "cell_type": "code",
   "execution_count": 7,
   "metadata": {},
   "outputs": [],
   "source": [
    "df_normals['text'] = df_normals['text'].apply(lambda x: preprocessing(list(x)))\n",
    "df_swears['text'] = df_swears['text'].apply(lambda x: preprocessing(list(x)))"
   ]
  },
  {
   "cell_type": "code",
   "execution_count": 8,
   "metadata": {},
   "outputs": [],
   "source": [
    "df_normals_sampled = df_normals.sample(n=len(df_swears), random_state=2020)"
   ]
  },
  {
   "cell_type": "code",
   "execution_count": 9,
   "metadata": {},
   "outputs": [
    {
     "data": {
      "text/html": [
       "<div>\n",
       "<style scoped>\n",
       "    .dataframe tbody tr th:only-of-type {\n",
       "        vertical-align: middle;\n",
       "    }\n",
       "\n",
       "    .dataframe tbody tr th {\n",
       "        vertical-align: top;\n",
       "    }\n",
       "\n",
       "    .dataframe thead th {\n",
       "        text-align: right;\n",
       "    }\n",
       "</style>\n",
       "<table border=\"1\" class=\"dataframe\">\n",
       "  <thead>\n",
       "    <tr style=\"text-align: right;\">\n",
       "      <th></th>\n",
       "      <th>text</th>\n",
       "      <th>label</th>\n",
       "    </tr>\n",
       "  </thead>\n",
       "  <tbody>\n",
       "    <tr>\n",
       "      <th>0</th>\n",
       "      <td>[61, 45, 31, 10, 11, 12, 7, 4, 10, 18, 4, 2, 3...</td>\n",
       "      <td>0</td>\n",
       "    </tr>\n",
       "    <tr>\n",
       "      <th>1</th>\n",
       "      <td>[8, 12, 6, 51, 13, 16, 17, 18, 6, 2, 3, 21, 63...</td>\n",
       "      <td>0</td>\n",
       "    </tr>\n",
       "    <tr>\n",
       "      <th>2</th>\n",
       "      <td>[8, 45, 3, 14, 30, 2, 47, 47, 47, 47, 159, 159...</td>\n",
       "      <td>0</td>\n",
       "    </tr>\n",
       "    <tr>\n",
       "      <th>3</th>\n",
       "      <td>[6, 10, 4, 13, 18, 10, 8, 20, 9, 12, 13, 4, 14...</td>\n",
       "      <td>0</td>\n",
       "    </tr>\n",
       "    <tr>\n",
       "      <th>4</th>\n",
       "      <td>[61, 12, 3, 8, 67, 3, 14, 3, 13, 61, 14, 7, 17...</td>\n",
       "      <td>0</td>\n",
       "    </tr>\n",
       "    <tr>\n",
       "      <th>...</th>\n",
       "      <td>...</td>\n",
       "      <td>...</td>\n",
       "    </tr>\n",
       "    <tr>\n",
       "      <th>4957</th>\n",
       "      <td>[6, 74, 4, 11, 12, 3, 11, 2, 13, 11, 17, 3, 3,...</td>\n",
       "      <td>1</td>\n",
       "    </tr>\n",
       "    <tr>\n",
       "      <th>4958</th>\n",
       "      <td>[18, 10, 8, 5, 7, 8, 12, 13, 11, 3, 13, 31, 10...</td>\n",
       "      <td>1</td>\n",
       "    </tr>\n",
       "    <tr>\n",
       "      <th>4959</th>\n",
       "      <td>[11, 4, 2, 31, 4, 19, 11, 17, 16, 13, 16, 2, 7...</td>\n",
       "      <td>1</td>\n",
       "    </tr>\n",
       "    <tr>\n",
       "      <th>4960</th>\n",
       "      <td>[3, 12, 13, 8, 10, 7, 4, 5, 7, 8, 12, 13, 11, ...</td>\n",
       "      <td>1</td>\n",
       "    </tr>\n",
       "    <tr>\n",
       "      <th>4961</th>\n",
       "      <td>[11, 4, 2, 31, 8, 14, 3, 13, 18, 51, 71, 12, 4...</td>\n",
       "      <td>1</td>\n",
       "    </tr>\n",
       "  </tbody>\n",
       "</table>\n",
       "<p>4962 rows × 2 columns</p>\n",
       "</div>"
      ],
      "text/plain": [
       "                                                   text  label\n",
       "0     [61, 45, 31, 10, 11, 12, 7, 4, 10, 18, 4, 2, 3...      0\n",
       "1     [8, 12, 6, 51, 13, 16, 17, 18, 6, 2, 3, 21, 63...      0\n",
       "2     [8, 45, 3, 14, 30, 2, 47, 47, 47, 47, 159, 159...      0\n",
       "3     [6, 10, 4, 13, 18, 10, 8, 20, 9, 12, 13, 4, 14...      0\n",
       "4     [61, 12, 3, 8, 67, 3, 14, 3, 13, 61, 14, 7, 17...      0\n",
       "...                                                 ...    ...\n",
       "4957  [6, 74, 4, 11, 12, 3, 11, 2, 13, 11, 17, 3, 3,...      1\n",
       "4958  [18, 10, 8, 5, 7, 8, 12, 13, 11, 3, 13, 31, 10...      1\n",
       "4959  [11, 4, 2, 31, 4, 19, 11, 17, 16, 13, 16, 2, 7...      1\n",
       "4960  [3, 12, 13, 8, 10, 7, 4, 5, 7, 8, 12, 13, 11, ...      1\n",
       "4961  [11, 4, 2, 31, 8, 14, 3, 13, 18, 51, 71, 12, 4...      1\n",
       "\n",
       "[4962 rows x 2 columns]"
      ]
     },
     "execution_count": 9,
     "metadata": {},
     "output_type": "execute_result"
    }
   ],
   "source": [
    "df_total = pd.concat([df_normals_sampled, df_swears], ignore_index=True)\n",
    "df_total"
   ]
  },
  {
   "cell_type": "code",
   "execution_count": 10,
   "metadata": {},
   "outputs": [],
   "source": [
    "df_train, df_test = train_test_split(df_total, test_size=0.2, stratify=df_total['label'])"
   ]
  },
  {
   "cell_type": "code",
   "execution_count": 11,
   "metadata": {},
   "outputs": [
    {
     "data": {
      "text/html": [
       "<div>\n",
       "<style scoped>\n",
       "    .dataframe tbody tr th:only-of-type {\n",
       "        vertical-align: middle;\n",
       "    }\n",
       "\n",
       "    .dataframe tbody tr th {\n",
       "        vertical-align: top;\n",
       "    }\n",
       "\n",
       "    .dataframe thead th {\n",
       "        text-align: right;\n",
       "    }\n",
       "</style>\n",
       "<table border=\"1\" class=\"dataframe\">\n",
       "  <thead>\n",
       "    <tr style=\"text-align: right;\">\n",
       "      <th></th>\n",
       "      <th>text</th>\n",
       "      <th>label</th>\n",
       "    </tr>\n",
       "  </thead>\n",
       "  <tbody>\n",
       "    <tr>\n",
       "      <th>1374</th>\n",
       "      <td>[8, 17, 4, 31, 17, 105, 9, 12, 8, 17, 7, 7, 2,...</td>\n",
       "      <td>0</td>\n",
       "    </tr>\n",
       "    <tr>\n",
       "      <th>987</th>\n",
       "      <td>[55, 5, 8, 10, 4, 1, 17, 1, 3, 14, 3, 1, 2, 13...</td>\n",
       "      <td>0</td>\n",
       "    </tr>\n",
       "    <tr>\n",
       "      <th>346</th>\n",
       "      <td>[4, 12, 16, 61, 17, 18, 12, 84, 13, 4, 74, 3, ...</td>\n",
       "      <td>0</td>\n",
       "    </tr>\n",
       "    <tr>\n",
       "      <th>234</th>\n",
       "      <td>[18, 12, 1, 14, 33, 36, 38, 38, 8, 12, 3, 1, 1...</td>\n",
       "      <td>0</td>\n",
       "    </tr>\n",
       "    <tr>\n",
       "      <th>1942</th>\n",
       "      <td>[9, 2, 3, 11, 12, 11, 5, 16, 20, 3, 13, 1, 10,...</td>\n",
       "      <td>0</td>\n",
       "    </tr>\n",
       "    <tr>\n",
       "      <th>...</th>\n",
       "      <td>...</td>\n",
       "      <td>...</td>\n",
       "    </tr>\n",
       "    <tr>\n",
       "      <th>3869</th>\n",
       "      <td>[61, 14, 18, 19, 13, 8, 2, 3, 16, 5, 8, 20, 8,...</td>\n",
       "      <td>1</td>\n",
       "    </tr>\n",
       "    <tr>\n",
       "      <th>4110</th>\n",
       "      <td>[139, 26, 27, 8, 19, 13, 6, 12, 7, 7, 10, 13, ...</td>\n",
       "      <td>1</td>\n",
       "    </tr>\n",
       "    <tr>\n",
       "      <th>4113</th>\n",
       "      <td>[55, 51, 7, 7, 12, 3, 11, 12, 13, 8, 12, 9, 11...</td>\n",
       "      <td>1</td>\n",
       "    </tr>\n",
       "    <tr>\n",
       "      <th>2327</th>\n",
       "      <td>[8, 10, 7, 20, 52, 8, 14, 7, 28, 51, 13, 8, 20...</td>\n",
       "      <td>0</td>\n",
       "    </tr>\n",
       "    <tr>\n",
       "      <th>1791</th>\n",
       "      <td>[9, 2, 7, 7, 19, 3, 31, 2, 8, 12, 3, 1, 17, 13...</td>\n",
       "      <td>0</td>\n",
       "    </tr>\n",
       "  </tbody>\n",
       "</table>\n",
       "<p>3969 rows × 2 columns</p>\n",
       "</div>"
      ],
      "text/plain": [
       "                                                   text  label\n",
       "1374  [8, 17, 4, 31, 17, 105, 9, 12, 8, 17, 7, 7, 2,...      0\n",
       "987   [55, 5, 8, 10, 4, 1, 17, 1, 3, 14, 3, 1, 2, 13...      0\n",
       "346   [4, 12, 16, 61, 17, 18, 12, 84, 13, 4, 74, 3, ...      0\n",
       "234   [18, 12, 1, 14, 33, 36, 38, 38, 8, 12, 3, 1, 1...      0\n",
       "1942  [9, 2, 3, 11, 12, 11, 5, 16, 20, 3, 13, 1, 10,...      0\n",
       "...                                                 ...    ...\n",
       "3869  [61, 14, 18, 19, 13, 8, 2, 3, 16, 5, 8, 20, 8,...      1\n",
       "4110  [139, 26, 27, 8, 19, 13, 6, 12, 7, 7, 10, 13, ...      1\n",
       "4113  [55, 51, 7, 7, 12, 3, 11, 12, 13, 8, 12, 9, 11...      1\n",
       "2327  [8, 10, 7, 20, 52, 8, 14, 7, 28, 51, 13, 8, 20...      0\n",
       "1791  [9, 2, 7, 7, 19, 3, 31, 2, 8, 12, 3, 1, 17, 13...      0\n",
       "\n",
       "[3969 rows x 2 columns]"
      ]
     },
     "execution_count": 11,
     "metadata": {},
     "output_type": "execute_result"
    }
   ],
   "source": [
    "df_train"
   ]
  },
  {
   "cell_type": "code",
   "execution_count": 12,
   "metadata": {},
   "outputs": [
    {
     "ename": "TypeError",
     "evalue": "_vhstack_dispatcher() got an unexpected keyword argument 'dtype'",
     "output_type": "error",
     "traceback": [
      "\u001b[0;31m---------------------------------------------------------------------------\u001b[0m",
      "\u001b[0;31mTypeError\u001b[0m                                 Traceback (most recent call last)",
      "\u001b[0;32m<ipython-input-12-8eaa12272305>\u001b[0m in \u001b[0;36m<module>\u001b[0;34m\u001b[0m\n\u001b[0;32m----> 1\u001b[0;31m \u001b[0mxtrain\u001b[0m\u001b[0;34m,\u001b[0m \u001b[0mytrain\u001b[0m \u001b[0;34m=\u001b[0m \u001b[0mnp\u001b[0m\u001b[0;34m.\u001b[0m\u001b[0mvstack\u001b[0m\u001b[0;34m(\u001b[0m\u001b[0mdf_train\u001b[0m\u001b[0;34m[\u001b[0m\u001b[0;34m'text'\u001b[0m\u001b[0;34m]\u001b[0m\u001b[0;34m,\u001b[0m \u001b[0mdtype\u001b[0m\u001b[0;34m=\u001b[0m\u001b[0mnp\u001b[0m\u001b[0;34m.\u001b[0m\u001b[0mint32\u001b[0m\u001b[0;34m)\u001b[0m\u001b[0;34m,\u001b[0m \u001b[0mtf\u001b[0m\u001b[0;34m.\u001b[0m\u001b[0mone_hot\u001b[0m\u001b[0;34m(\u001b[0m\u001b[0mnp\u001b[0m\u001b[0;34m.\u001b[0m\u001b[0marray\u001b[0m\u001b[0;34m(\u001b[0m\u001b[0mdf_train\u001b[0m\u001b[0;34m[\u001b[0m\u001b[0;34m'label'\u001b[0m\u001b[0;34m]\u001b[0m\u001b[0;34m,\u001b[0m \u001b[0mdtype\u001b[0m\u001b[0;34m=\u001b[0m\u001b[0mnp\u001b[0m\u001b[0;34m.\u001b[0m\u001b[0mfloat32\u001b[0m\u001b[0;34m)\u001b[0m\u001b[0;34m,\u001b[0m \u001b[0mdepth\u001b[0m\u001b[0;34m=\u001b[0m\u001b[0;36m2\u001b[0m\u001b[0;34m)\u001b[0m\u001b[0;34m\u001b[0m\u001b[0;34m\u001b[0m\u001b[0m\n\u001b[0m\u001b[1;32m      2\u001b[0m \u001b[0mxtest\u001b[0m\u001b[0;34m,\u001b[0m \u001b[0mytest\u001b[0m \u001b[0;34m=\u001b[0m \u001b[0mnp\u001b[0m\u001b[0;34m.\u001b[0m\u001b[0mvstack\u001b[0m\u001b[0;34m(\u001b[0m\u001b[0mdf_test\u001b[0m\u001b[0;34m[\u001b[0m\u001b[0;34m'text'\u001b[0m\u001b[0;34m]\u001b[0m\u001b[0;34m,\u001b[0m \u001b[0mdtype\u001b[0m\u001b[0;34m=\u001b[0m\u001b[0mnp\u001b[0m\u001b[0;34m.\u001b[0m\u001b[0mint32\u001b[0m\u001b[0;34m)\u001b[0m\u001b[0;34m,\u001b[0m \u001b[0mtf\u001b[0m\u001b[0;34m.\u001b[0m\u001b[0mone_hot\u001b[0m\u001b[0;34m(\u001b[0m\u001b[0mnp\u001b[0m\u001b[0;34m.\u001b[0m\u001b[0marray\u001b[0m\u001b[0;34m(\u001b[0m\u001b[0mdf_test\u001b[0m\u001b[0;34m[\u001b[0m\u001b[0;34m'label'\u001b[0m\u001b[0;34m]\u001b[0m\u001b[0;34m,\u001b[0m \u001b[0mdtype\u001b[0m\u001b[0;34m=\u001b[0m\u001b[0mnp\u001b[0m\u001b[0;34m.\u001b[0m\u001b[0mfloat32\u001b[0m\u001b[0;34m)\u001b[0m\u001b[0;34m,\u001b[0m \u001b[0mdepth\u001b[0m\u001b[0;34m=\u001b[0m\u001b[0;36m2\u001b[0m\u001b[0;34m)\u001b[0m\u001b[0;34m\u001b[0m\u001b[0;34m\u001b[0m\u001b[0m\n",
      "\u001b[0;32m<__array_function__ internals>\u001b[0m in \u001b[0;36mvstack\u001b[0;34m(*args, **kwargs)\u001b[0m\n",
      "\u001b[0;31mTypeError\u001b[0m: _vhstack_dispatcher() got an unexpected keyword argument 'dtype'"
     ]
    }
   ],
   "source": [
    "xtrain, ytrain = np.vstack(df_train['text']), tf.one_hot(np.array(df_train['label']), depth=2)\n",
    "xtest, ytest = np.vstack(df_test['text']), tf.one_hot(np.array(df_test['label']), depth=2)"
   ]
  },
  {
   "cell_type": "code",
   "execution_count": null,
   "metadata": {},
   "outputs": [],
   "source": [
    "train_ds = tf.data.Dataset.from_tensor_slices((xtrain,ytrain)).batch(32)\n",
    "test_ds =tf.data.Dataset.from_tensor_slices((xtest,ytest)).batch(32)"
   ]
  },
  {
   "cell_type": "code",
   "execution_count": null,
   "metadata": {},
   "outputs": [],
   "source": [
    "class Model(tf.keras.Model):\n",
    "    def __init__(self):\n",
    "        super(Model, self).__init__()\n",
    "        self.emb = tf.keras.layers.Embedding(input_dim=160, output_dim=64, input_length=100)\n",
    "        self.conv1 = tf.keras.layers.Conv1D(64, 5, activation='relu', input_shape=(100,64))\n",
    "        self.pool1 = tf.keras.layers.MaxPooling1D(pool_size=2, strides=2)\n",
    "        self.conv2 = tf.keras.layers.Conv1D(32, 5, activation='relu', input_shape=(96,32))\n",
    "        self.pool2 = tf.keras.layers.MaxPooling1D(pool_size=2, strides=2)\n",
    "        self.conv3 = tf.keras.layers.Conv1D(16, 5, activation='relu', input_shape=(92,16))\n",
    "        self.pool3 = tf.keras.layers.MaxPooling1D(pool_size=2, strides=2)\n",
    "        self.flat = tf.keras.layers.Flatten(input_shape=(84, 8))\n",
    "        self.dense = tf.keras.layers.Dense(128, activation='relu')\n",
    "        self.classifier = tf.keras.layers.Dense(2, activation='softmax')\n",
    "    \n",
    "    def call(self, x):\n",
    "        x = self.emb(x)\n",
    "        x = self.conv1(x)\n",
    "        x = self.pool1(x)\n",
    "        x = self.conv2(x)\n",
    "        x = self.pool2(x)\n",
    "        x = self.conv3(x)\n",
    "        x = self.pool3(x)\n",
    "        x = self.flat(x)\n",
    "        x = self.dense(x)\n",
    "        return self.classifier(x)\n",
    "\n",
    "model = Model()"
   ]
  },
  {
   "cell_type": "code",
   "execution_count": null,
   "metadata": {},
   "outputs": [],
   "source": [
    "loss_object = tf.keras.losses.BinaryCrossentropy(from_logits=True)\n",
    "optimizer = tf.keras.optimizers.Adam()"
   ]
  },
  {
   "cell_type": "code",
   "execution_count": null,
   "metadata": {},
   "outputs": [],
   "source": [
    "train_loss = tf.keras.metrics.Mean(name='train_loss')\n",
    "train_accuracy = tf.keras.metrics.BinaryAccuracy(name='train_accuracy')\n",
    "\n",
    "test_loss = tf.keras.metrics.Mean(name='test_loss')\n",
    "test_accuracy = tf.keras.metrics.BinaryAccuracy(name='test_accuracy')"
   ]
  },
  {
   "cell_type": "code",
   "execution_count": null,
   "metadata": {},
   "outputs": [],
   "source": [
    "@tf.function\n",
    "def train_step(documents, labels):\n",
    "    with tf.GradientTape() as tape:\n",
    "        predictions = model(documents)\n",
    "        loss = loss_object(labels, predictions)\n",
    "    gradients = tape.gradient(loss, model.trainable_variables)\n",
    "    optimizer.apply_gradients(zip(gradients, model.trainable_variables))\n",
    "    \n",
    "    train_loss(loss)\n",
    "    train_accuracy(labels, predictions)"
   ]
  },
  {
   "cell_type": "code",
   "execution_count": null,
   "metadata": {},
   "outputs": [],
   "source": [
    "@tf.function\n",
    "def test_step(documents, labels):\n",
    "    predictions = model(documents)\n",
    "    loss = loss_object(labels, predictions)\n",
    "    \n",
    "    test_loss(loss)\n",
    "    test_accuracy(labels, predictions)"
   ]
  },
  {
   "cell_type": "code",
   "execution_count": null,
   "metadata": {},
   "outputs": [],
   "source": [
    "EPOCHS = 100\n",
    "\n",
    "for epoch in range(EPOCHS):\n",
    "    for documents, labels in train_ds:\n",
    "        train_step(documents, labels)\n",
    "    for documents, labels in test_ds:\n",
    "        test_step(documents, labels)\n",
    "    \n",
    "    if epoch % 10 == 0:\n",
    "        template = \"[EPOCH {}/{}], LOSS: {}, ACCURACY: {}, TEST_LOSS: {}, TEST_ACCURACY: {}\"\n",
    "        print(template.format(\n",
    "            epoch+1,\n",
    "            EPOCHS,\n",
    "            train_loss.result(),\n",
    "            train_accuracy.result()*100,\n",
    "            test_loss.result(),\n",
    "            test_accuracy.result()*100\n",
    "        ))"
   ]
  },
  {
   "cell_type": "code",
   "execution_count": null,
   "metadata": {},
   "outputs": [],
   "source": [
    "def predict(text=None):\n",
    "    if text is None:\n",
    "        text = input()\n",
    "    x = j2hcj(h2j(text))\n",
    "    x = preprocessing(list(x))\n",
    "    prediction = model.predict(np.array([x]))\n",
    "    if prediction[0][0] > prediction[0][1]:\n",
    "        print('정상입니다.')\n",
    "    else:\n",
    "        print('욕입니다.')\n",
    "    print(prediction)"
   ]
  },
  {
   "cell_type": "code",
   "execution_count": null,
   "metadata": {},
   "outputs": [],
   "source": [
    "predict()"
   ]
  },
  {
   "cell_type": "code",
   "execution_count": null,
   "metadata": {},
   "outputs": [],
   "source": [
    "model.save('models/model')"
   ]
  },
  {
   "cell_type": "code",
   "execution_count": null,
   "metadata": {},
   "outputs": [],
   "source": [
    "converter = tf.lite.TFLiteConverter.from_saved_model('models/model')\n",
    "tflite_model = converter.convert()\n",
    "\n",
    "with open('models/model.tflite', 'wb') as f:\n",
    "    f.write(tflite_model)"
   ]
  },
  {
   "cell_type": "code",
   "execution_count": null,
   "metadata": {},
   "outputs": [],
   "source": []
  }
 ],
 "metadata": {
  "kernelspec": {
   "display_name": "Python 3",
   "language": "python",
   "name": "python3"
  },
  "language_info": {
   "codemirror_mode": {
    "name": "ipython",
    "version": 3
   },
   "file_extension": ".py",
   "mimetype": "text/x-python",
   "name": "python",
   "nbconvert_exporter": "python",
   "pygments_lexer": "ipython3",
   "version": "3.8.5"
  }
 },
 "nbformat": 4,
 "nbformat_minor": 4
}
